{
 "cells": [
  {
   "cell_type": "code",
   "execution_count": 1,
   "id": "ca349851",
   "metadata": {},
   "outputs": [],
   "source": [
    "import sympy\n",
    "from sympy import *"
   ]
  },
  {
   "cell_type": "code",
   "execution_count": 2,
   "id": "eb5ee5f7",
   "metadata": {},
   "outputs": [],
   "source": [
    "sympy.init_printing()"
   ]
  },
  {
   "cell_type": "code",
   "execution_count": 9,
   "id": "4e8861d9",
   "metadata": {},
   "outputs": [],
   "source": [
    "x = sympy.Symbol('x')\n",
    "\n",
    "f1, f2 = symbols('f1 f2', integer=True)\n",
    "\n",
    "m1, n1 = symbols('scale1 n1', integer=True)\n",
    "m2, n2 = symbols('m2 n2', integer=True)\n",
    "\n",
    "a1, b1, c1 = symbols('a1 b1 c1', integer=True)\n",
    "a2, b2, c2 = symbols('a2 b2 c2', integer=True)\n",
    "\n"
   ]
  },
  {
   "cell_type": "markdown",
   "id": "f33f04b6",
   "metadata": {},
   "source": [
    "## Poly Type"
   ]
  },
  {
   "cell_type": "markdown",
   "id": "dc0577d6",
   "metadata": {},
   "source": [
    "### Scale Conv "
   ]
  },
  {
   "cell_type": "code",
   "execution_count": 10,
   "id": "cf3b0aa2",
   "metadata": {},
   "outputs": [
    {
     "data": {
      "image/png": "[encoded data removed]",
      "text/latex": [
       "$\\displaystyle f_{1} x$"
      ],
      "text/plain": [
       "f₁⋅x"
      ]
     },
     "execution_count": 10,
     "metadata": {},
     "output_type": "execute_result"
    }
   ],
   "source": [
    "scale_fx = f1*x\n",
    "scale_gx = f2*x\n",
    "scale_fx"
   ]
  },
  {
   "cell_type": "code",
   "execution_count": 11,
   "id": "00f97280",
   "metadata": {},
   "outputs": [
    {
     "data": {
      "image/png": "[encoded data removed]",
      "text/latex": [
       "$\\displaystyle m_{1} x + n_{1}$"
      ],
      "text/plain": [
       "m₁⋅x + n₁"
      ]
     },
     "execution_count": 11,
     "metadata": {},
     "output_type": "execute_result"
    }
   ],
   "source": [
    "linear_fx = m1*x + n1\n",
    "linear_gx = m2*x + n2\n",
    "linear_fx"
   ]
  },
  {
   "cell_type": "code",
   "execution_count": 15,
   "id": "409eb008",
   "metadata": {},
   "outputs": [
    {
     "data": {
      "image/png": "[encoded data removed]",
      "text/latex": [
       "$\\displaystyle a_{1} + b_{1} x + c_{1} x^{2}$"
      ],
      "text/plain": [
       "                2\n",
       "a₁ + b₁⋅x + c₁⋅x "
      ]
     },
     "execution_count": 15,
     "metadata": {},
     "output_type": "execute_result"
    }
   ],
   "source": [
    "poly3_fx = a1 + b1*x + c1*Pow(x,2)\n",
    "poly3_gx = a2 + b2*x + c2*Pow(x,2)\n",
    "poly3_fx"
   ]
  },
  {
   "cell_type": "markdown",
   "id": "299e661f",
   "metadata": {},
   "source": [
    "## combine scaleconv to all "
   ]
  },
  {
   "cell_type": "code",
   "execution_count": 16,
   "id": "c21c755d",
   "metadata": {},
   "outputs": [
    {
     "data": {
      "image/png": "[encoded data removed]",
      "text/latex": [
       "$\\displaystyle f_{1} f_{2} x$"
      ],
      "text/plain": [
       "f₁⋅f₂⋅x"
      ]
     },
     "execution_count": 16,
     "metadata": {},
     "output_type": "execute_result"
    }
   ],
   "source": [
    "scale_to_scale = compose(scale_gx, scale_fx)\n",
    "scale_to_scale"
   ]
  },
  {
   "cell_type": "code",
   "execution_count": 18,
   "id": "9dd607cb",
   "metadata": {},
   "outputs": [
    {
     "data": {
      "image/png": "[encoded data removed]",
      "text/latex": [
       "$\\displaystyle f_{1} m_{2} x + n_{2}$"
      ],
      "text/plain": [
       "f₁⋅m₂⋅x + n₂"
      ]
     },
     "execution_count": 18,
     "metadata": {},
     "output_type": "execute_result"
    }
   ],
   "source": [
    "scale_to_lin = compose(linear_gx, scale_fx)\n",
    "scale_to_lin"
   ]
  },
  {
   "cell_type": "code",
   "execution_count": null,
   "id": "1d115096",
   "metadata": {},
   "outputs": [],
   "source": []
  }
 ],
 "metadata": {
  "kernelspec": {
   "display_name": "Python 3.8 (ipykernel)",
   "language": "python",
   "name": "python3.8"
  },
  "language_info": {
   "codemirror_mode": {
    "name": "ipython",
    "version": 3
   },
   "file_extension": ".py",
   "mimetype": "text/x-python",
   "name": "python",
   "nbconvert_exporter": "python",
   "pygments_lexer": "ipython3",
   "version": "3.8.13"
  }
 },
 "nbformat": 4,
 "nbformat_minor": 5
}
