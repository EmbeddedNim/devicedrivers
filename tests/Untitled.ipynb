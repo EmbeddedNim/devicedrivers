{
 "cells": [
  {
   "cell_type": "code",
   "execution_count": 1,
   "id": "ab1a6747",
   "metadata": {},
   "outputs": [],
   "source": [
    "import sympy\n",
    "from sympy import *"
   ]
  },
  {
   "cell_type": "code",
   "execution_count": 2,
   "id": "592dc447",
   "metadata": {},
   "outputs": [],
   "source": [
    "sympy.init_printing()"
   ]
  },
  {
   "cell_type": "code",
   "execution_count": 43,
   "id": "67022ded",
   "metadata": {},
   "outputs": [],
   "source": [
    "x = sympy.Symbol('x')\n",
    "\n",
    "f0, g0 = symbols('f0 g0', integer=True)\n",
    "\n",
    "m0, m0 = symbols('m0 n0', integer=True)\n",
    "m1, m1 = symbols('m1 n1', integer=True)\n",
    "\n",
    "a0, a1, a2 = symbols('a0 a1 a2', integer=True)\n",
    "b0, b1, b2 = symbols('b0 b1 b2', integer=True)\n",
    "\n"
   ]
  },
  {
   "cell_type": "markdown",
   "id": "9483fa3e",
   "metadata": {},
   "source": [
    "## Poly Type"
   ]
  },
  {
   "cell_type": "markdown",
   "id": "823889d3",
   "metadata": {},
   "source": [
    "### Scale Conv "
   ]
  },
  {
   "cell_type": "code",
   "execution_count": 44,
   "id": "35cf03c9",
   "metadata": {},
   "outputs": [
    {
     "data": {
      "image/png": "[encoded data removed]",
      "text/latex": [
       "$\\displaystyle f_{0} x$"
      ],
      "text/plain": [
       "f₀⋅x"
      ]
     },
     "execution_count": 44,
     "metadata": {},
     "output_type": "execute_result"
    }
   ],
   "source": [
    "scale_fx = f0*x \n",
    "scale_gx = g0*x\n",
    "scale_fx"
   ]
  },
  {
   "cell_type": "code",
   "execution_count": 45,
   "id": "163993ed",
   "metadata": {},
   "outputs": [
    {
     "data": {
      "image/png": "[encoded data removed]",
      "text/latex": [
       "$\\displaystyle n_{0} x + n_{1}$"
      ],
      "text/plain": [
       "n₀⋅x + n₁"
      ]
     },
     "execution_count": 45,
     "metadata": {},
     "output_type": "execute_result"
    }
   ],
   "source": [
    "linear_fx = m0*x + m1\n",
    "linear_gx = n0*x + n1\n",
    "linear_fx"
   ]
  },
  {
   "cell_type": "code",
   "execution_count": 46,
   "id": "6770a026",
   "metadata": {},
   "outputs": [
    {
     "data": {
      "image/png": "[encoded data removed]",
      "text/latex": [
       "$\\displaystyle a_{0} + a_{1} x + a_{2} x^{2}$"
      ],
      "text/plain": [
       "                2\n",
       "a₀ + a₁⋅x + a₂⋅x "
      ]
     },
     "execution_count": 46,
     "metadata": {},
     "output_type": "execute_result"
    }
   ],
   "source": [
    "poly3_fx = a0 + a1*x + a2*Pow(x,2)\n",
    "poly3_gx = b0 + b1*x + b2*Pow(x,2)\n",
    "poly3_fx"
   ]
  },
  {
   "cell_type": "markdown",
   "id": "6c833bac",
   "metadata": {},
   "source": [
    "## combine scaleconv to all "
   ]
  },
  {
   "cell_type": "code",
   "execution_count": 49,
   "id": "0b1878c8",
   "metadata": {},
   "outputs": [
    {
     "data": {
      "image/png": "[encoded data removed]",
      "text/latex": [
       "$\\displaystyle f_{0} g_{0} x$"
      ],
      "text/plain": [
       "f₀⋅g₀⋅x"
      ]
     },
     "execution_count": 49,
     "metadata": {},
     "output_type": "execute_result"
    }
   ],
   "source": [
    "scale_to_scale = compose(scale_gx, scale_fx)\n",
    "scale_to_scale"
   ]
  },
  {
   "cell_type": "code",
   "execution_count": 50,
   "id": "402d7a26",
   "metadata": {},
   "outputs": [
    {
     "data": {
      "image/png": "[encoded data removed]",
      "text/latex": [
       "$\\displaystyle f_{0} n_{0} x + n_{1}$"
      ],
      "text/plain": [
       "f₀⋅n₀⋅x + n₁"
      ]
     },
     "execution_count": 50,
     "metadata": {},
     "output_type": "execute_result"
    }
   ],
   "source": [
    "scale_to_lin = compose(linear_gx, scale_fx)\n",
    "scale_to_lin"
   ]
  },
  {
   "cell_type": "code",
   "execution_count": null,
   "id": "0a0c8968",
   "metadata": {},
   "outputs": [],
   "source": []
  }
 ],
 "metadata": {
  "kernelspec": {
   "display_name": "Python 3.8 (ipykernel)",
   "language": "python",
   "name": "python3.8"
  },
  "language_info": {
   "codemirror_mode": {
    "name": "ipython",
    "version": 3
   },
   "file_extension": ".py",
   "mimetype": "text/x-python",
   "name": "python",
   "nbconvert_exporter": "python",
   "pygments_lexer": "ipython3",
   "version": "3.8.13"
  }
 },
 "nbformat": 4,
 "nbformat_minor": 5
}
