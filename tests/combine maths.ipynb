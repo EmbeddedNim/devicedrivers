{
 "cells": [
  {
   "cell_type": "code",
   "execution_count": 161,
   "id": "0b4cbd1b",
   "metadata": {},
   "outputs": [],
   "source": [
    "import sympy\n",
    "from sympy import *\n",
    "from sympy.vector import *\n",
    "N = CoordSys3D('N')"
   ]
  },
  {
   "cell_type": "code",
   "execution_count": 162,
   "id": "2d672ca0",
   "metadata": {},
   "outputs": [],
   "source": [
    "sympy.init_printing()"
   ]
  },
  {
   "cell_type": "code",
   "execution_count": 178,
   "id": "5b0899b6",
   "metadata": {},
   "outputs": [],
   "source": [
    "x, y = symbols('x y')\n",
    "\n",
    "f1, f2 = symbols('f1 f2', integer=True)\n",
    "\n",
    "m1, n1 = symbols('m1 n1', integer=True)\n",
    "m2, n2 = symbols('m2 n2', integer=True)\n",
    "\n",
    "a1, b1, c1 = symbols('a1 b1 c1', integer=True)\n",
    "a2, b2, c2 = symbols('a2 b2 c2', integer=True)\n",
    "\n",
    "k1, k2, k3 = symbols('k1 k2 k3', integer=True)\n",
    "v1, v2, v3 = symbols('v1 v2 v3', integer=True)\n",
    "\n",
    "j1, j2, j3 = symbols('j1 j2 j3', integer=True)\n",
    "u1, u2, u3 = symbols('u1 u2 u3', integer=True)\n"
   ]
  },
  {
   "cell_type": "markdown",
   "id": "d32142ed",
   "metadata": {},
   "source": [
    "## Poly Type"
   ]
  },
  {
   "cell_type": "markdown",
   "id": "38b1420c",
   "metadata": {},
   "source": [
    "### Scale Conv "
   ]
  },
  {
   "cell_type": "code",
   "execution_count": 179,
   "id": "5793421b",
   "metadata": {},
   "outputs": [
    {
     "data": {
      "image/png": "[encoded data removed]",
      "text/latex": [
       "$\\displaystyle f_{1} x$"
      ],
      "text/plain": [
       "f₁⋅x"
      ]
     },
     "execution_count": 179,
     "metadata": {},
     "output_type": "execute_result"
    }
   ],
   "source": [
    "scale_fx = f1*x\n",
    "scale_gx = f2*x\n",
    "scale_fx"
   ]
  },
  {
   "cell_type": "code",
   "execution_count": 180,
   "id": "dc20a764",
   "metadata": {},
   "outputs": [
    {
     "data": {
      "image/png": "[encoded data removed]",
      "text/latex": [
       "$\\displaystyle m_{1} x + n_{1}$"
      ],
      "text/plain": [
       "m₁⋅x + n₁"
      ]
     },
     "execution_count": 180,
     "metadata": {},
     "output_type": "execute_result"
    }
   ],
   "source": [
    "linear_fx = m1*x + n1\n",
    "linear_gx = m2*x + n2\n",
    "linear_fx"
   ]
  },
  {
   "cell_type": "code",
   "execution_count": 181,
   "id": "4db5cb22",
   "metadata": {},
   "outputs": [
    {
     "data": {
      "image/png": "[encoded data removed]",
      "text/latex": [
       "$\\displaystyle a_{1} + b_{1} x + c_{1} x^{2}$"
      ],
      "text/plain": [
       "                2\n",
       "a₁ + b₁⋅x + c₁⋅x "
      ]
     },
     "execution_count": 181,
     "metadata": {},
     "output_type": "execute_result"
    }
   ],
   "source": [
    "poly3_fx = a1 + b1*x + c1*Pow(x,2)\n",
    "poly3_gx = a2 + b2*x + c2*Pow(x,2)\n",
    "poly3_fx"
   ]
  },
  {
   "cell_type": "code",
   "execution_count": 316,
   "id": "8d44e667",
   "metadata": {},
   "outputs": [
    {
     "data": {
      "image/png": "[encoded data removed]",
      "text/latex": [
       "$\\displaystyle k_{1} > x$"
      ],
      "text/plain": [
       "k₁ > x"
      ]
     },
     "execution_count": 316,
     "metadata": {},
     "output_type": "execute_result"
    }
   ],
   "source": [
    "lltable_gx = (k1 > x)\n",
    "lltable_gx"
   ]
  },
  {
   "cell_type": "code",
   "execution_count": 296,
   "id": "a5882cd3",
   "metadata": {},
   "outputs": [],
   "source": [
    "def preCalcFromTo(f, g):\n",
    "  print(\"f=\", f, \" to \", \"g=\", g )\n",
    "  res = compose(g,fa)\n",
    "  display(res)\n",
    "  return res\n",
    "def print_ncode(x):\n",
    "  return repr(x).replace(\"**\", \"^\")"
   ]
  },
  {
   "cell_type": "markdown",
   "id": "9ccd9176",
   "metadata": {},
   "source": [
    "## combines"
   ]
  },
  {
   "cell_type": "markdown",
   "id": "f8886573",
   "metadata": {},
   "source": [
    "### scaleconv"
   ]
  },
  {
   "cell_type": "code",
   "execution_count": 297,
   "id": "9a3f45d5",
   "metadata": {},
   "outputs": [
    {
     "name": "stdout",
     "output_type": "stream",
     "text": [
      "f= f1*x  to  g= f2*x\n"
     ]
    },
    {
     "data": {
      "image/png": "[encoded data removed]",
      "text/latex": [
       "$\\displaystyle f_{1} f_{2} x$"
      ],
      "text/plain": [
       "f₁⋅f₂⋅x"
      ]
     },
     "metadata": {},
     "output_type": "display_data"
    }
   ],
   "source": [
    "scale_to_scale = preCalcFromTo(scale_fx, scale_gx)"
   ]
  },
  {
   "cell_type": "code",
   "execution_count": 298,
   "id": "1211b76a",
   "metadata": {},
   "outputs": [
    {
     "name": "stdout",
     "output_type": "stream",
     "text": [
      "f= f1*x  to  g= m2*x + n2\n"
     ]
    },
    {
     "data": {
      "image/png": "[encoded data removed]",
      "text/latex": [
       "$\\displaystyle f_{1} m_{2} x + n_{2}$"
      ],
      "text/plain": [
       "f₁⋅m₂⋅x + n₂"
      ]
     },
     "metadata": {},
     "output_type": "display_data"
    }
   ],
   "source": [
    "scale_to_lin = preCalcFromTo(scale_fx, linear_gx)"
   ]
  },
  {
   "cell_type": "code",
   "execution_count": 299,
   "id": "b1280e20",
   "metadata": {},
   "outputs": [
    {
     "name": "stdout",
     "output_type": "stream",
     "text": [
      "f= f1*x  to  g= a2 + b2*x + c2*x**2\n"
     ]
    },
    {
     "data": {
      "image/png": "[encoded data removed]",
      "text/latex": [
       "$\\displaystyle a_{2} + b_{2} f_{1} x + c_{2} f_{1}^{2} x^{2}$"
      ],
      "text/plain": [
       "                    2  2\n",
       "a₂ + b₂⋅f₁⋅x + c₂⋅f₁ ⋅x "
      ]
     },
     "metadata": {},
     "output_type": "display_data"
    }
   ],
   "source": [
    "scale_to_poly3 = preCalcFromTo(scale_fx, poly3_gx)"
   ]
  },
  {
   "cell_type": "code",
   "execution_count": 300,
   "id": "7ddb6974",
   "metadata": {},
   "outputs": [
    {
     "data": {
      "image/png": "[encoded data removed]",
      "text/latex": [
       "$\\displaystyle k_{1} > f_{1} x$"
      ],
      "text/plain": [
       "k₁ > f₁⋅x"
      ]
     },
     "execution_count": 300,
     "metadata": {},
     "output_type": "execute_result"
    }
   ],
   "source": [
    "scale_to_lltable = lltable_gx.subs(x, scale_fx)\n",
    "scale_to_lltable"
   ]
  },
  {
   "cell_type": "code",
   "execution_count": 301,
   "id": "a056731f",
   "metadata": {},
   "outputs": [
    {
     "data": {
      "image/png": "[encoded data removed]",
      "text/latex": [
       "$\\displaystyle k_{1} > f_{1} x$"
      ],
      "text/plain": [
       "k₁ > f₁⋅x"
      ]
     },
     "execution_count": 301,
     "metadata": {},
     "output_type": "execute_result"
    }
   ],
   "source": [
    "simplify(scale_to_lltable)"
   ]
  },
  {
   "cell_type": "markdown",
   "id": "738f9311",
   "metadata": {},
   "source": [
    "### linconv "
   ]
  },
  {
   "cell_type": "code",
   "execution_count": 302,
   "id": "b9851924",
   "metadata": {},
   "outputs": [
    {
     "name": "stdout",
     "output_type": "stream",
     "text": [
      "f= m1*x + n1  to  g= f2*x\n"
     ]
    },
    {
     "data": {
      "image/png": "[encoded data removed]",
      "text/latex": [
       "$\\displaystyle f_{2} m_{1} x + f_{2} n_{1}$"
      ],
      "text/plain": [
       "f₂⋅m₁⋅x + f₂⋅n₁"
      ]
     },
     "metadata": {},
     "output_type": "display_data"
    }
   ],
   "source": [
    "lin_to_scale = preCalcFromTo(linear_fx, scale_gx)"
   ]
  },
  {
   "cell_type": "code",
   "execution_count": 303,
   "id": "82837e85",
   "metadata": {},
   "outputs": [
    {
     "name": "stdout",
     "output_type": "stream",
     "text": [
      "f= m1*x + n1  to  g= m2*x + n2\n"
     ]
    },
    {
     "data": {
      "image/png": "[encoded data removed]",
      "text/latex": [
       "$\\displaystyle m_{1} m_{2} x + m_{2} n_{1} + n_{2}$"
      ],
      "text/plain": [
       "m₁⋅m₂⋅x + m₂⋅n₁ + n₂"
      ]
     },
     "metadata": {},
     "output_type": "display_data"
    }
   ],
   "source": [
    "lin_to_lin = preCalcFromTo(linear_fx, linear_gx)"
   ]
  },
  {
   "cell_type": "code",
   "execution_count": 308,
   "id": "6e02a70a",
   "metadata": {},
   "outputs": [
    {
     "name": "stdout",
     "output_type": "stream",
     "text": [
      "f= m1*x + n1  to  g= a2 + b2*x + c2*x**2\n"
     ]
    },
    {
     "data": {
      "image/png": "[encoded data removed]",
      "text/latex": [
       "$\\displaystyle a_{2} + b_{2} m_{1} x + b_{2} n_{1} + c_{2} m_{1}^{2} x^{2} + 2 c_{2} m_{1} n_{1} x + c_{2} n_{1}^{2}$"
      ],
      "text/plain": [
       "                            2  2                       2\n",
       "a₂ + b₂⋅m₁⋅x + b₂⋅n₁ + c₂⋅m₁ ⋅x  + 2⋅c₂⋅m₁⋅n₁⋅x + c₂⋅n₁ "
      ]
     },
     "metadata": {},
     "output_type": "display_data"
    },
    {
     "data": {
      "text/plain": [
       "'a2 + b2*n1 + c2*m1^2*x^2 + c2*n1^2 + x*(b2*m1 + 2*c2*m1*n1)'"
      ]
     },
     "execution_count": 308,
     "metadata": {},
     "output_type": "execute_result"
    }
   ],
   "source": [
    "lin_to_poly3 = preCalcFromTo(linear_fx, poly3_gx)\n",
    "print_ncode(collect(lin_to_poly3, x))"
   ]
  },
  {
   "cell_type": "code",
   "execution_count": 319,
   "id": "d1a8d00e",
   "metadata": {},
   "outputs": [
    {
     "data": {
      "image/png": "[encoded data removed]",
      "text/latex": [
       "$\\displaystyle k_{1} > m_{1} x + n_{1}$"
      ],
      "text/plain": [
       "k₁ > m₁⋅x + n₁"
      ]
     },
     "execution_count": 319,
     "metadata": {},
     "output_type": "execute_result"
    }
   ],
   "source": [
    "lin_to_lltable = lltable_gx.subs(x, linear_fx)\n",
    "lin_to_lltable"
   ]
  },
  {
   "cell_type": "code",
   "execution_count": 318,
   "id": "c0bc7778",
   "metadata": {},
   "outputs": [
    {
     "data": {
      "text/plain": [
       "'-m1*x > -k1 + n1'"
      ]
     },
     "execution_count": 318,
     "metadata": {},
     "output_type": "execute_result"
    }
   ],
   "source": [
    "print_ncode(solve(lin_to_lltable, x))"
   ]
  },
  {
   "cell_type": "markdown",
   "id": "b0f0602a",
   "metadata": {},
   "source": [
    "### poly3conv  "
   ]
  },
  {
   "cell_type": "code",
   "execution_count": 320,
   "id": "c33bbbf4",
   "metadata": {},
   "outputs": [
    {
     "name": "stdout",
     "output_type": "stream",
     "text": [
      "f= a1 + b1*x + c1*x**2  to  g= f2*x\n"
     ]
    },
    {
     "data": {
      "image/png": "[encoded data removed]",
      "text/latex": [
       "$\\displaystyle a_{1} f_{2} + b_{1} f_{2} x + c_{1} f_{2} x^{2}$"
      ],
      "text/plain": [
       "                         2\n",
       "a₁⋅f₂ + b₁⋅f₂⋅x + c₁⋅f₂⋅x "
      ]
     },
     "metadata": {},
     "output_type": "display_data"
    }
   ],
   "source": [
    "poly3_to_scale = preCalcFromTo(poly3_fx, scale_gx)"
   ]
  },
  {
   "cell_type": "code",
   "execution_count": 322,
   "id": "c352750f",
   "metadata": {},
   "outputs": [
    {
     "name": "stdout",
     "output_type": "stream",
     "text": [
      "f= a1 + b1*x + c1*x**2  to  g= m2*x + n2\n"
     ]
    },
    {
     "data": {
      "image/png": "[encoded data removed]",
      "text/latex": [
       "$\\displaystyle a_{1} m_{2} + b_{1} m_{2} x + c_{1} m_{2} x^{2} + n_{2}$"
      ],
      "text/plain": [
       "                         2     \n",
       "a₁⋅m₂ + b₁⋅m₂⋅x + c₁⋅m₂⋅x  + n₂"
      ]
     },
     "metadata": {},
     "output_type": "display_data"
    },
    {
     "data": {
      "text/plain": [
       "'a1*m2 + b1*m2*x + c1*m2*x^2 + n2'"
      ]
     },
     "execution_count": 322,
     "metadata": {},
     "output_type": "execute_result"
    }
   ],
   "source": [
    "poly3_to_lin = preCalcFromTo(poly3_fx, linear_gx)\n",
    "print_ncode(poly3_to_lin)"
   ]
  },
  {
   "cell_type": "code",
   "execution_count": 324,
   "id": "32486a8a",
   "metadata": {},
   "outputs": [
    {
     "name": "stdout",
     "output_type": "stream",
     "text": [
      "f= a1 + b1*x + c1*x**2  to  g= a2 + b2*x + c2*x**2\n"
     ]
    },
    {
     "data": {
      "image/png": "[encoded data removed]",
      "text/latex": [
       "$\\displaystyle a_{1}^{2} c_{2} + 2 a_{1} b_{1} c_{2} x + a_{1} b_{2} + 2 a_{1} c_{1} c_{2} x^{2} + a_{2} + b_{1}^{2} c_{2} x^{2} + b_{1} b_{2} x + 2 b_{1} c_{1} c_{2} x^{3} + b_{2} c_{1} x^{2} + c_{1}^{2} c_{2} x^{4}$"
      ],
      "text/plain": [
       "  2                                         2          2     2                \n",
       "a₁ ⋅c₂ + 2⋅a₁⋅b₁⋅c₂⋅x + a₁⋅b₂ + 2⋅a₁⋅c₁⋅c₂⋅x  + a₂ + b₁ ⋅c₂⋅x  + b₁⋅b₂⋅x + 2⋅b\n",
       "\n",
       "         3          2     2     4\n",
       "₁⋅c₁⋅c₂⋅x  + b₂⋅c₁⋅x  + c₁ ⋅c₂⋅x "
      ]
     },
     "metadata": {},
     "output_type": "display_data"
    },
    {
     "data": {
      "text/plain": [
       "'a1^2*c2 + 2*a1*b1*c2*x + a1*b2 + 2*a1*c1*c2*x^2 + a2 + b1^2*c2*x^2 + b1*b2*x + 2*b1*c1*c2*x^3 + b2*c1*x^2 + c1^2*c2*x^4'"
      ]
     },
     "execution_count": 324,
     "metadata": {},
     "output_type": "execute_result"
    }
   ],
   "source": [
    "poly3_to_poly3 = preCalcFromTo(poly3_fx, poly3_gx)\n",
    "print_ncode(poly3_to_poly3)"
   ]
  },
  {
   "cell_type": "code",
   "execution_count": 340,
   "id": "c356e62e",
   "metadata": {},
   "outputs": [
    {
     "name": "stdout",
     "output_type": "stream",
     "text": [
      "k1 = Symbol('k1')\n",
      "a1 = Symbol('a1')\n",
      "b1 = Symbol('b1')\n",
      "x = Symbol('x')\n",
      "c1 = Symbol('c1')\n",
      "e = k1 > a1 + b1*x + c1*x**2\n"
     ]
    }
   ],
   "source": [
    "poly3_to_lltable = lltable_gx.subs(x, poly3_fx)\n",
    "print_python(poly3_to_lltable)"
   ]
  },
  {
   "cell_type": "code",
   "execution_count": 342,
   "id": "d763610a",
   "metadata": {},
   "outputs": [
    {
     "data": {
      "image/png": "[encoded data removed]",
      "text/latex": [
       "$\\displaystyle \\left[ \\frac{- b_{1} + \\sqrt{- 4 a_{1} c_{1} + b_{1}^{2} + 4 c_{1} k_{1}}}{2 c_{1}}, \\  - \\frac{b_{1} + \\sqrt{- 4 a_{1} c_{1} + b_{1}^{2} + 4 c_{1} k_{1}}}{2 c_{1}}\\right]$"
      ],
      "text/plain": [
       "⎡         __________________________   ⎛        __________________________⎞ ⎤\n",
       "⎢        ╱              2              ⎜       ╱              2           ⎟ ⎥\n",
       "⎢-b₁ + ╲╱  -4⋅a₁⋅c₁ + b₁  + 4⋅c₁⋅k₁   -⎝b₁ + ╲╱  -4⋅a₁⋅c₁ + b₁  + 4⋅c₁⋅k₁ ⎠ ⎥\n",
       "⎢───────────────────────────────────, ──────────────────────────────────────⎥\n",
       "⎣                2⋅c₁                                  2⋅c₁                 ⎦"
      ]
     },
     "execution_count": 342,
     "metadata": {},
     "output_type": "execute_result"
    }
   ],
   "source": [
    "solve(a1 + b1*x + c1*x**2 - k1, x)"
   ]
  },
  {
   "cell_type": "markdown",
   "id": "f12549c3",
   "metadata": {},
   "source": [
    "### poly3conv  "
   ]
  },
  {
   "cell_type": "code",
   "execution_count": 344,
   "id": "c1a020a5",
   "metadata": {},
   "outputs": [
    {
     "ename": "TypeError",
     "evalue": "Relational can not be used in Mul",
     "output_type": "error",
     "traceback": [
      "\u001b[0;31m---------------------------------------------------------------------------\u001b[0m",
      "\u001b[0;31mTypeError\u001b[0m                                 Traceback (most recent call last)",
      "File \u001b[0;32m/usr/lib/python3.8/site-packages/sympy/core/cache.py:72\u001b[0m, in \u001b[0;36m__cacheit.<locals>.func_wrapper.<locals>.wrapper\u001b[0;34m(*args, **kwargs)\u001b[0m\n\u001b[1;32m     71\u001b[0m \u001b[38;5;28;01mtry\u001b[39;00m:\n\u001b[0;32m---> 72\u001b[0m     retval \u001b[38;5;241m=\u001b[39m \u001b[43mcfunc\u001b[49m\u001b[43m(\u001b[49m\u001b[38;5;241;43m*\u001b[39;49m\u001b[43margs\u001b[49m\u001b[43m,\u001b[49m\u001b[43m \u001b[49m\u001b[38;5;241;43m*\u001b[39;49m\u001b[38;5;241;43m*\u001b[39;49m\u001b[43mkwargs\u001b[49m\u001b[43m)\u001b[49m\n\u001b[1;32m     73\u001b[0m \u001b[38;5;28;01mexcept\u001b[39;00m \u001b[38;5;167;01mTypeError\u001b[39;00m:\n",
      "File \u001b[0;32m/usr/lib/python3.8/site-packages/sympy/core/operations.py:60\u001b[0m, in \u001b[0;36mAssocOp.__new__\u001b[0;34m(cls, evaluate, _sympify, *args)\u001b[0m\n\u001b[1;32m     59\u001b[0m \u001b[38;5;28;01mif\u001b[39;00m \u001b[38;5;28many\u001b[39m(\u001b[38;5;28misinstance\u001b[39m(arg, Relational) \u001b[38;5;28;01mfor\u001b[39;00m arg \u001b[38;5;129;01min\u001b[39;00m args):\n\u001b[0;32m---> 60\u001b[0m     \u001b[38;5;28;01mraise\u001b[39;00m \u001b[38;5;167;01mTypeError\u001b[39;00m(\u001b[38;5;124m\"\u001b[39m\u001b[38;5;124mRelational can not be used in \u001b[39m\u001b[38;5;132;01m%s\u001b[39;00m\u001b[38;5;124m\"\u001b[39m \u001b[38;5;241m%\u001b[39m \u001b[38;5;28mcls\u001b[39m\u001b[38;5;241m.\u001b[39m\u001b[38;5;18m__name__\u001b[39m)\n\u001b[1;32m     62\u001b[0m \u001b[38;5;66;03m# This should raise TypeError once deprecation period is over:\u001b[39;00m\n",
      "\u001b[0;31mTypeError\u001b[0m: Relational can not be used in Mul",
      "\nDuring handling of the above exception, another exception occurred:\n",
      "\u001b[0;31mTypeError\u001b[0m                                 Traceback (most recent call last)",
      "File \u001b[0;32m/usr/lib/python3.8/site-packages/sympy/core/cache.py:72\u001b[0m, in \u001b[0;36m__cacheit.<locals>.func_wrapper.<locals>.wrapper\u001b[0;34m(*args, **kwargs)\u001b[0m\n\u001b[1;32m     71\u001b[0m \u001b[38;5;28;01mtry\u001b[39;00m:\n\u001b[0;32m---> 72\u001b[0m     retval \u001b[38;5;241m=\u001b[39m \u001b[43mcfunc\u001b[49m\u001b[43m(\u001b[49m\u001b[38;5;241;43m*\u001b[39;49m\u001b[43margs\u001b[49m\u001b[43m,\u001b[49m\u001b[43m \u001b[49m\u001b[38;5;241;43m*\u001b[39;49m\u001b[38;5;241;43m*\u001b[39;49m\u001b[43mkwargs\u001b[49m\u001b[43m)\u001b[49m\n\u001b[1;32m     73\u001b[0m \u001b[38;5;28;01mexcept\u001b[39;00m \u001b[38;5;167;01mTypeError\u001b[39;00m:\n",
      "File \u001b[0;32m/usr/lib/python3.8/site-packages/sympy/core/basic.py:1066\u001b[0m, in \u001b[0;36mBasic._subs\u001b[0;34m(self, old, new, **hints)\u001b[0m\n\u001b[1;32m   1065\u001b[0m \u001b[38;5;28;01mif\u001b[39;00m rv \u001b[38;5;129;01mis\u001b[39;00m \u001b[38;5;28;01mNone\u001b[39;00m:\n\u001b[0;32m-> 1066\u001b[0m     rv \u001b[38;5;241m=\u001b[39m \u001b[43mfallback\u001b[49m\u001b[43m(\u001b[49m\u001b[38;5;28;43mself\u001b[39;49m\u001b[43m,\u001b[49m\u001b[43m \u001b[49m\u001b[43mold\u001b[49m\u001b[43m,\u001b[49m\u001b[43m \u001b[49m\u001b[43mnew\u001b[49m\u001b[43m)\u001b[49m\n\u001b[1;32m   1067\u001b[0m \u001b[38;5;28;01mreturn\u001b[39;00m rv\n",
      "File \u001b[0;32m/usr/lib/python3.8/site-packages/sympy/core/basic.py:1043\u001b[0m, in \u001b[0;36mBasic._subs.<locals>.fallback\u001b[0;34m(self, old, new)\u001b[0m\n\u001b[1;32m   1042\u001b[0m \u001b[38;5;28;01mif\u001b[39;00m hit:\n\u001b[0;32m-> 1043\u001b[0m     rv \u001b[38;5;241m=\u001b[39m \u001b[38;5;28;43mself\u001b[39;49m\u001b[38;5;241;43m.\u001b[39;49m\u001b[43mfunc\u001b[49m\u001b[43m(\u001b[49m\u001b[38;5;241;43m*\u001b[39;49m\u001b[43margs\u001b[49m\u001b[43m)\u001b[49m\n\u001b[1;32m   1044\u001b[0m     hack2 \u001b[38;5;241m=\u001b[39m hints\u001b[38;5;241m.\u001b[39mget(\u001b[38;5;124m'\u001b[39m\u001b[38;5;124mhack2\u001b[39m\u001b[38;5;124m'\u001b[39m, \u001b[38;5;28;01mFalse\u001b[39;00m)\n",
      "File \u001b[0;32m/usr/lib/python3.8/site-packages/sympy/core/cache.py:74\u001b[0m, in \u001b[0;36m__cacheit.<locals>.func_wrapper.<locals>.wrapper\u001b[0;34m(*args, **kwargs)\u001b[0m\n\u001b[1;32m     73\u001b[0m \u001b[38;5;28;01mexcept\u001b[39;00m \u001b[38;5;167;01mTypeError\u001b[39;00m:\n\u001b[0;32m---> 74\u001b[0m     retval \u001b[38;5;241m=\u001b[39m \u001b[43mfunc\u001b[49m\u001b[43m(\u001b[49m\u001b[38;5;241;43m*\u001b[39;49m\u001b[43margs\u001b[49m\u001b[43m,\u001b[49m\u001b[43m \u001b[49m\u001b[38;5;241;43m*\u001b[39;49m\u001b[38;5;241;43m*\u001b[39;49m\u001b[43mkwargs\u001b[49m\u001b[43m)\u001b[49m\n\u001b[1;32m     75\u001b[0m \u001b[38;5;28;01mreturn\u001b[39;00m retval\n",
      "File \u001b[0;32m/usr/lib/python3.8/site-packages/sympy/core/operations.py:60\u001b[0m, in \u001b[0;36mAssocOp.__new__\u001b[0;34m(cls, evaluate, _sympify, *args)\u001b[0m\n\u001b[1;32m     59\u001b[0m \u001b[38;5;28;01mif\u001b[39;00m \u001b[38;5;28many\u001b[39m(\u001b[38;5;28misinstance\u001b[39m(arg, Relational) \u001b[38;5;28;01mfor\u001b[39;00m arg \u001b[38;5;129;01min\u001b[39;00m args):\n\u001b[0;32m---> 60\u001b[0m     \u001b[38;5;28;01mraise\u001b[39;00m \u001b[38;5;167;01mTypeError\u001b[39;00m(\u001b[38;5;124m\"\u001b[39m\u001b[38;5;124mRelational can not be used in \u001b[39m\u001b[38;5;132;01m%s\u001b[39;00m\u001b[38;5;124m\"\u001b[39m \u001b[38;5;241m%\u001b[39m \u001b[38;5;28mcls\u001b[39m\u001b[38;5;241m.\u001b[39m\u001b[38;5;18m__name__\u001b[39m)\n\u001b[1;32m     62\u001b[0m \u001b[38;5;66;03m# This should raise TypeError once deprecation period is over:\u001b[39;00m\n",
      "\u001b[0;31mTypeError\u001b[0m: Relational can not be used in Mul",
      "\nDuring handling of the above exception, another exception occurred:\n",
      "\u001b[0;31mTypeError\u001b[0m                                 Traceback (most recent call last)",
      "File \u001b[0;32m/usr/lib/python3.8/site-packages/sympy/core/cache.py:72\u001b[0m, in \u001b[0;36m__cacheit.<locals>.func_wrapper.<locals>.wrapper\u001b[0;34m(*args, **kwargs)\u001b[0m\n\u001b[1;32m     71\u001b[0m \u001b[38;5;28;01mtry\u001b[39;00m:\n\u001b[0;32m---> 72\u001b[0m     retval \u001b[38;5;241m=\u001b[39m \u001b[43mcfunc\u001b[49m\u001b[43m(\u001b[49m\u001b[38;5;241;43m*\u001b[39;49m\u001b[43margs\u001b[49m\u001b[43m,\u001b[49m\u001b[43m \u001b[49m\u001b[38;5;241;43m*\u001b[39;49m\u001b[38;5;241;43m*\u001b[39;49m\u001b[43mkwargs\u001b[49m\u001b[43m)\u001b[49m\n\u001b[1;32m     73\u001b[0m \u001b[38;5;28;01mexcept\u001b[39;00m \u001b[38;5;167;01mTypeError\u001b[39;00m:\n",
      "File \u001b[0;32m/usr/lib/python3.8/site-packages/sympy/core/operations.py:60\u001b[0m, in \u001b[0;36mAssocOp.__new__\u001b[0;34m(cls, evaluate, _sympify, *args)\u001b[0m\n\u001b[1;32m     59\u001b[0m \u001b[38;5;28;01mif\u001b[39;00m \u001b[38;5;28many\u001b[39m(\u001b[38;5;28misinstance\u001b[39m(arg, Relational) \u001b[38;5;28;01mfor\u001b[39;00m arg \u001b[38;5;129;01min\u001b[39;00m args):\n\u001b[0;32m---> 60\u001b[0m     \u001b[38;5;28;01mraise\u001b[39;00m \u001b[38;5;167;01mTypeError\u001b[39;00m(\u001b[38;5;124m\"\u001b[39m\u001b[38;5;124mRelational can not be used in \u001b[39m\u001b[38;5;132;01m%s\u001b[39;00m\u001b[38;5;124m\"\u001b[39m \u001b[38;5;241m%\u001b[39m \u001b[38;5;28mcls\u001b[39m\u001b[38;5;241m.\u001b[39m\u001b[38;5;18m__name__\u001b[39m)\n\u001b[1;32m     62\u001b[0m \u001b[38;5;66;03m# This should raise TypeError once deprecation period is over:\u001b[39;00m\n",
      "\u001b[0;31mTypeError\u001b[0m: Relational can not be used in Mul",
      "\nDuring handling of the above exception, another exception occurred:\n",
      "\u001b[0;31mTypeError\u001b[0m                                 Traceback (most recent call last)",
      "Input \u001b[0;32mIn [344]\u001b[0m, in \u001b[0;36m<cell line: 1>\u001b[0;34m()\u001b[0m\n\u001b[0;32m----> 1\u001b[0m lltable_to_scale \u001b[38;5;241m=\u001b[39m \u001b[43mscale_gx\u001b[49m\u001b[38;5;241;43m.\u001b[39;49m\u001b[43msubs\u001b[49m\u001b[43m(\u001b[49m\u001b[43mx\u001b[49m\u001b[43m,\u001b[49m\u001b[43m \u001b[49m\u001b[43mlltable_fx\u001b[49m\u001b[43m)\u001b[49m\n",
      "File \u001b[0;32m/usr/lib/python3.8/site-packages/sympy/core/basic.py:952\u001b[0m, in \u001b[0;36mBasic.subs\u001b[0;34m(self, *args, **kwargs)\u001b[0m\n\u001b[1;32m    950\u001b[0m rv \u001b[38;5;241m=\u001b[39m \u001b[38;5;28mself\u001b[39m\n\u001b[1;32m    951\u001b[0m \u001b[38;5;28;01mfor\u001b[39;00m old, new \u001b[38;5;129;01min\u001b[39;00m sequence:\n\u001b[0;32m--> 952\u001b[0m     rv \u001b[38;5;241m=\u001b[39m \u001b[43mrv\u001b[49m\u001b[38;5;241;43m.\u001b[39;49m\u001b[43m_subs\u001b[49m\u001b[43m(\u001b[49m\u001b[43mold\u001b[49m\u001b[43m,\u001b[49m\u001b[43m \u001b[49m\u001b[43mnew\u001b[49m\u001b[43m,\u001b[49m\u001b[43m \u001b[49m\u001b[38;5;241;43m*\u001b[39;49m\u001b[38;5;241;43m*\u001b[39;49m\u001b[43mkwargs\u001b[49m\u001b[43m)\u001b[49m\n\u001b[1;32m    953\u001b[0m     \u001b[38;5;28;01mif\u001b[39;00m \u001b[38;5;129;01mnot\u001b[39;00m \u001b[38;5;28misinstance\u001b[39m(rv, Basic):\n\u001b[1;32m    954\u001b[0m         \u001b[38;5;28;01mbreak\u001b[39;00m\n",
      "File \u001b[0;32m/usr/lib/python3.8/site-packages/sympy/core/cache.py:74\u001b[0m, in \u001b[0;36m__cacheit.<locals>.func_wrapper.<locals>.wrapper\u001b[0;34m(*args, **kwargs)\u001b[0m\n\u001b[1;32m     72\u001b[0m     retval \u001b[38;5;241m=\u001b[39m cfunc(\u001b[38;5;241m*\u001b[39margs, \u001b[38;5;241m*\u001b[39m\u001b[38;5;241m*\u001b[39mkwargs)\n\u001b[1;32m     73\u001b[0m \u001b[38;5;28;01mexcept\u001b[39;00m \u001b[38;5;167;01mTypeError\u001b[39;00m:\n\u001b[0;32m---> 74\u001b[0m     retval \u001b[38;5;241m=\u001b[39m \u001b[43mfunc\u001b[49m\u001b[43m(\u001b[49m\u001b[38;5;241;43m*\u001b[39;49m\u001b[43margs\u001b[49m\u001b[43m,\u001b[49m\u001b[43m \u001b[49m\u001b[38;5;241;43m*\u001b[39;49m\u001b[38;5;241;43m*\u001b[39;49m\u001b[43mkwargs\u001b[49m\u001b[43m)\u001b[49m\n\u001b[1;32m     75\u001b[0m \u001b[38;5;28;01mreturn\u001b[39;00m retval\n",
      "File \u001b[0;32m/usr/lib/python3.8/site-packages/sympy/core/basic.py:1066\u001b[0m, in \u001b[0;36mBasic._subs\u001b[0;34m(self, old, new, **hints)\u001b[0m\n\u001b[1;32m   1064\u001b[0m rv \u001b[38;5;241m=\u001b[39m \u001b[38;5;28mself\u001b[39m\u001b[38;5;241m.\u001b[39m_eval_subs(old, new)\n\u001b[1;32m   1065\u001b[0m \u001b[38;5;28;01mif\u001b[39;00m rv \u001b[38;5;129;01mis\u001b[39;00m \u001b[38;5;28;01mNone\u001b[39;00m:\n\u001b[0;32m-> 1066\u001b[0m     rv \u001b[38;5;241m=\u001b[39m \u001b[43mfallback\u001b[49m\u001b[43m(\u001b[49m\u001b[38;5;28;43mself\u001b[39;49m\u001b[43m,\u001b[49m\u001b[43m \u001b[49m\u001b[43mold\u001b[49m\u001b[43m,\u001b[49m\u001b[43m \u001b[49m\u001b[43mnew\u001b[49m\u001b[43m)\u001b[49m\n\u001b[1;32m   1067\u001b[0m \u001b[38;5;28;01mreturn\u001b[39;00m rv\n",
      "File \u001b[0;32m/usr/lib/python3.8/site-packages/sympy/core/basic.py:1043\u001b[0m, in \u001b[0;36mBasic._subs.<locals>.fallback\u001b[0;34m(self, old, new)\u001b[0m\n\u001b[1;32m   1041\u001b[0m         args[i] \u001b[38;5;241m=\u001b[39m arg\n\u001b[1;32m   1042\u001b[0m \u001b[38;5;28;01mif\u001b[39;00m hit:\n\u001b[0;32m-> 1043\u001b[0m     rv \u001b[38;5;241m=\u001b[39m \u001b[38;5;28;43mself\u001b[39;49m\u001b[38;5;241;43m.\u001b[39;49m\u001b[43mfunc\u001b[49m\u001b[43m(\u001b[49m\u001b[38;5;241;43m*\u001b[39;49m\u001b[43margs\u001b[49m\u001b[43m)\u001b[49m\n\u001b[1;32m   1044\u001b[0m     hack2 \u001b[38;5;241m=\u001b[39m hints\u001b[38;5;241m.\u001b[39mget(\u001b[38;5;124m'\u001b[39m\u001b[38;5;124mhack2\u001b[39m\u001b[38;5;124m'\u001b[39m, \u001b[38;5;28;01mFalse\u001b[39;00m)\n\u001b[1;32m   1045\u001b[0m     \u001b[38;5;28;01mif\u001b[39;00m hack2 \u001b[38;5;129;01mand\u001b[39;00m \u001b[38;5;28mself\u001b[39m\u001b[38;5;241m.\u001b[39mis_Mul \u001b[38;5;129;01mand\u001b[39;00m \u001b[38;5;129;01mnot\u001b[39;00m rv\u001b[38;5;241m.\u001b[39mis_Mul:  \u001b[38;5;66;03m# 2-arg hack\u001b[39;00m\n",
      "File \u001b[0;32m/usr/lib/python3.8/site-packages/sympy/core/cache.py:74\u001b[0m, in \u001b[0;36m__cacheit.<locals>.func_wrapper.<locals>.wrapper\u001b[0;34m(*args, **kwargs)\u001b[0m\n\u001b[1;32m     72\u001b[0m     retval \u001b[38;5;241m=\u001b[39m cfunc(\u001b[38;5;241m*\u001b[39margs, \u001b[38;5;241m*\u001b[39m\u001b[38;5;241m*\u001b[39mkwargs)\n\u001b[1;32m     73\u001b[0m \u001b[38;5;28;01mexcept\u001b[39;00m \u001b[38;5;167;01mTypeError\u001b[39;00m:\n\u001b[0;32m---> 74\u001b[0m     retval \u001b[38;5;241m=\u001b[39m \u001b[43mfunc\u001b[49m\u001b[43m(\u001b[49m\u001b[38;5;241;43m*\u001b[39;49m\u001b[43margs\u001b[49m\u001b[43m,\u001b[49m\u001b[43m \u001b[49m\u001b[38;5;241;43m*\u001b[39;49m\u001b[38;5;241;43m*\u001b[39;49m\u001b[43mkwargs\u001b[49m\u001b[43m)\u001b[49m\n\u001b[1;32m     75\u001b[0m \u001b[38;5;28;01mreturn\u001b[39;00m retval\n",
      "File \u001b[0;32m/usr/lib/python3.8/site-packages/sympy/core/operations.py:60\u001b[0m, in \u001b[0;36mAssocOp.__new__\u001b[0;34m(cls, evaluate, _sympify, *args)\u001b[0m\n\u001b[1;32m     58\u001b[0m \u001b[38;5;28;01mfrom\u001b[39;00m \u001b[38;5;21;01msympy\u001b[39;00m\u001b[38;5;21;01m.\u001b[39;00m\u001b[38;5;21;01mcore\u001b[39;00m\u001b[38;5;21;01m.\u001b[39;00m\u001b[38;5;21;01mrelational\u001b[39;00m \u001b[38;5;28;01mimport\u001b[39;00m Relational\n\u001b[1;32m     59\u001b[0m \u001b[38;5;28;01mif\u001b[39;00m \u001b[38;5;28many\u001b[39m(\u001b[38;5;28misinstance\u001b[39m(arg, Relational) \u001b[38;5;28;01mfor\u001b[39;00m arg \u001b[38;5;129;01min\u001b[39;00m args):\n\u001b[0;32m---> 60\u001b[0m     \u001b[38;5;28;01mraise\u001b[39;00m \u001b[38;5;167;01mTypeError\u001b[39;00m(\u001b[38;5;124m\"\u001b[39m\u001b[38;5;124mRelational can not be used in \u001b[39m\u001b[38;5;132;01m%s\u001b[39;00m\u001b[38;5;124m\"\u001b[39m \u001b[38;5;241m%\u001b[39m \u001b[38;5;28mcls\u001b[39m\u001b[38;5;241m.\u001b[39m\u001b[38;5;18m__name__\u001b[39m)\n\u001b[1;32m     62\u001b[0m \u001b[38;5;66;03m# This should raise TypeError once deprecation period is over:\u001b[39;00m\n\u001b[1;32m     63\u001b[0m \u001b[38;5;28;01mif\u001b[39;00m \u001b[38;5;129;01mnot\u001b[39;00m \u001b[38;5;28mall\u001b[39m(\u001b[38;5;28misinstance\u001b[39m(arg, typ) \u001b[38;5;28;01mfor\u001b[39;00m arg \u001b[38;5;129;01min\u001b[39;00m args):\n",
      "\u001b[0;31mTypeError\u001b[0m: Relational can not be used in Mul"
     ]
    }
   ],
   "source": [
    "lltable_to_scale = scale_gx.subs(x, lltable_fx)"
   ]
  },
  {
   "cell_type": "code",
   "execution_count": null,
   "id": "78f15ea9",
   "metadata": {},
   "outputs": [],
   "source": []
  }
 ],
 "metadata": {
  "kernelspec": {
   "display_name": "Python 3.8 (ipykernel)",
   "language": "python",
   "name": "python3.8"
  },
  "language_info": {
   "codemirror_mode": {
    "name": "ipython",
    "version": 3
   },
   "file_extension": ".py",
   "mimetype": "text/x-python",
   "name": "python",
   "nbconvert_exporter": "python",
   "pygments_lexer": "ipython3",
   "version": "3.8.13"
  }
 },
 "nbformat": 4,
 "nbformat_minor": 5
}
