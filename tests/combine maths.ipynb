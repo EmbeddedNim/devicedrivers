{
 "cells": [
  {
   "cell_type": "code",
   "execution_count": 161,
   "id": "fcf59ca4",
   "metadata": {},
   "outputs": [],
   "source": [
    "import sympy\n",
    "from sympy import *\n",
    "from sympy.vector import *\n",
    "N = CoordSys3D('N')"
   ]
  },
  {
   "cell_type": "code",
   "execution_count": 162,
   "id": "59a45524",
   "metadata": {},
   "outputs": [],
   "source": [
    "sympy.init_printing()"
   ]
  },
  {
   "cell_type": "code",
   "execution_count": 178,
   "id": "167bda25",
   "metadata": {},
   "outputs": [],
   "source": [
    "x, y = symbols('x y')\n",
    "\n",
    "f1, f2 = symbols('f1 f2', integer=True)\n",
    "\n",
    "m1, n1 = symbols('m1 n1', integer=True)\n",
    "m2, n2 = symbols('m2 n2', integer=True)\n",
    "\n",
    "a1, b1, c1 = symbols('a1 b1 c1', integer=True)\n",
    "a2, b2, c2 = symbols('a2 b2 c2', integer=True)\n",
    "\n",
    "k1, k2, k3 = symbols('k1 k2 k3', integer=True)\n",
    "v1, v2, v3 = symbols('v1 v2 v3', integer=True)\n",
    "\n",
    "j1, j2, j3 = symbols('j1 j2 j3', integer=True)\n",
    "u1, u2, u3 = symbols('u1 u2 u3', integer=True)\n"
   ]
  },
  {
   "cell_type": "markdown",
   "id": "8dcb20d0",
   "metadata": {},
   "source": [
    "## Poly Type"
   ]
  },
  {
   "cell_type": "markdown",
   "id": "01e7073f",
   "metadata": {},
   "source": [
    "### Scale Conv "
   ]
  },
  {
   "cell_type": "code",
   "execution_count": 179,
   "id": "a268cc8a",
   "metadata": {},
   "outputs": [
    {
     "data": {
      "image/png": "[encoded data removed]",
      "text/latex": [
       "$\\displaystyle f_{1} x$"
      ],
      "text/plain": [
       "f₁⋅x"
      ]
     },
     "execution_count": 179,
     "metadata": {},
     "output_type": "execute_result"
    }
   ],
   "source": [
    "scale_fx = f1*x\n",
    "scale_gx = f2*x\n",
    "scale_fx"
   ]
  },
  {
   "cell_type": "code",
   "execution_count": 180,
   "id": "532afba0",
   "metadata": {},
   "outputs": [
    {
     "data": {
      "image/png": "[encoded data removed]",
      "text/latex": [
       "$\\displaystyle m_{1} x + n_{1}$"
      ],
      "text/plain": [
       "m₁⋅x + n₁"
      ]
     },
     "execution_count": 180,
     "metadata": {},
     "output_type": "execute_result"
    }
   ],
   "source": [
    "linear_fx = m1*x + n1\n",
    "linear_gx = m2*x + n2\n",
    "linear_fx"
   ]
  },
  {
   "cell_type": "code",
   "execution_count": 181,
   "id": "5d8933c6",
   "metadata": {},
   "outputs": [
    {
     "data": {
      "image/png": "[encoded data removed]",
      "text/latex": [
       "$\\displaystyle a_{1} + b_{1} x + c_{1} x^{2}$"
      ],
      "text/plain": [
       "                2\n",
       "a₁ + b₁⋅x + c₁⋅x "
      ]
     },
     "execution_count": 181,
     "metadata": {},
     "output_type": "execute_result"
    }
   ],
   "source": [
    "poly3_fx = a1 + b1*x + c1*Pow(x,2)\n",
    "poly3_gx = a2 + b2*x + c2*Pow(x,2)\n",
    "poly3_fx"
   ]
  },
  {
   "cell_type": "code",
   "execution_count": 316,
   "id": "7be2d945",
   "metadata": {},
   "outputs": [
    {
     "data": {
      "image/png": "[encoded data removed]",
      "text/latex": [
       "$\\displaystyle k_{1} > x$"
      ],
      "text/plain": [
       "k₁ > x"
      ]
     },
     "execution_count": 316,
     "metadata": {},
     "output_type": "execute_result"
    }
   ],
   "source": [
    "lltable_gx = (k1 > x)\n",
    "lltable_gx"
   ]
  },
  {
   "cell_type": "code",
   "execution_count": 296,
   "id": "1dbd3c82",
   "metadata": {},
   "outputs": [],
   "source": [
    "def preCalcFromTo(f, g):\n",
    "  print(\"f=\", f, \" to \", \"g=\", g )\n",
    "  res = compose(g,f)\n",
    "  display(res)\n",
    "  return res\n",
    "def print_ncode(x):\n",
    "  return repr(x).replace(\"**\", \"^\")"
   ]
  },
  {
   "cell_type": "markdown",
   "id": "96c9bc95",
   "metadata": {},
   "source": [
    "## combines"
   ]
  },
  {
   "cell_type": "markdown",
   "id": "1bdff4ff",
   "metadata": {},
   "source": [
    "### scaleconv"
   ]
  },
  {
   "cell_type": "code",
   "execution_count": 297,
   "id": "51bca7db",
   "metadata": {},
   "outputs": [
    {
     "name": "stdout",
     "output_type": "stream",
     "text": [
      "f= f1*x  to  g= f2*x\n"
     ]
    },
    {
     "data": {
      "image/png": "[encoded data removed]",
      "text/latex": [
       "$\\displaystyle f_{1} f_{2} x$"
      ],
      "text/plain": [
       "f₁⋅f₂⋅x"
      ]
     },
     "metadata": {},
     "output_type": "display_data"
    }
   ],
   "source": [
    "scale_to_scale = preCalcFromTo(scale_fx, scale_gx)"
   ]
  },
  {
   "cell_type": "code",
   "execution_count": 298,
   "id": "626eae0e",
   "metadata": {},
   "outputs": [
    {
     "name": "stdout",
     "output_type": "stream",
     "text": [
      "f= f1*x  to  g= m2*x + n2\n"
     ]
    },
    {
     "data": {
      "image/png": "[encoded data removed]",
      "text/latex": [
       "$\\displaystyle f_{1} m_{2} x + n_{2}$"
      ],
      "text/plain": [
       "f₁⋅m₂⋅x + n₂"
      ]
     },
     "metadata": {},
     "output_type": "display_data"
    }
   ],
   "source": [
    "scale_to_lin = preCalcFromTo(scale_fx, linear_gx)"
   ]
  },
  {
   "cell_type": "code",
   "execution_count": 299,
   "id": "5c560ba5",
   "metadata": {},
   "outputs": [
    {
     "name": "stdout",
     "output_type": "stream",
     "text": [
      "f= f1*x  to  g= a2 + b2*x + c2*x**2\n"
     ]
    },
    {
     "data": {
      "image/png": "[encoded data removed]",
      "text/latex": [
       "$\\displaystyle a_{2} + b_{2} f_{1} x + c_{2} f_{1}^{2} x^{2}$"
      ],
      "text/plain": [
       "                    2  2\n",
       "a₂ + b₂⋅f₁⋅x + c₂⋅f₁ ⋅x "
      ]
     },
     "metadata": {},
     "output_type": "display_data"
    }
   ],
   "source": [
    "scale_to_poly3 = preCalcFromTo(scale_fx, poly3_gx)"
   ]
  },
  {
   "cell_type": "code",
   "execution_count": 300,
   "id": "9fb3e220",
   "metadata": {},
   "outputs": [
    {
     "data": {
      "image/png": "[encoded data removed]",
      "text/latex": [
       "$\\displaystyle k_{1} > f_{1} x$"
      ],
      "text/plain": [
       "k₁ > f₁⋅x"
      ]
     },
     "execution_count": 300,
     "metadata": {},
     "output_type": "execute_result"
    }
   ],
   "source": [
    "scale_to_lltable = lltable_gx.subs(x, scale_fx)\n",
    "scale_to_lltable"
   ]
  },
  {
   "cell_type": "code",
   "execution_count": 301,
   "id": "67ebec54",
   "metadata": {},
   "outputs": [
    {
     "data": {
      "image/png": "[encoded data removed]",
      "text/latex": [
       "$\\displaystyle k_{1} > f_{1} x$"
      ],
      "text/plain": [
       "k₁ > f₁⋅x"
      ]
     },
     "execution_count": 301,
     "metadata": {},
     "output_type": "execute_result"
    }
   ],
   "source": [
    "simplify(scale_to_lltable)"
   ]
  },
  {
   "cell_type": "markdown",
   "id": "fe215f8a",
   "metadata": {},
   "source": [
    "### linconv "
   ]
  },
  {
   "cell_type": "code",
   "execution_count": 302,
   "id": "c54831a1",
   "metadata": {},
   "outputs": [
    {
     "name": "stdout",
     "output_type": "stream",
     "text": [
      "f= m1*x + n1  to  g= f2*x\n"
     ]
    },
    {
     "data": {
      "image/png": "[encoded data removed]",
      "text/latex": [
       "$\\displaystyle f_{2} m_{1} x + f_{2} n_{1}$"
      ],
      "text/plain": [
       "f₂⋅m₁⋅x + f₂⋅n₁"
      ]
     },
     "metadata": {},
     "output_type": "display_data"
    }
   ],
   "source": [
    "lin_to_scale = preCalcFromTo(linear_fx, scale_gx)"
   ]
  },
  {
   "cell_type": "code",
   "execution_count": 303,
   "id": "569f6720",
   "metadata": {},
   "outputs": [
    {
     "name": "stdout",
     "output_type": "stream",
     "text": [
      "f= m1*x + n1  to  g= m2*x + n2\n"
     ]
    },
    {
     "data": {
      "image/png": "[encoded data removed]",
      "text/latex": [
       "$\\displaystyle m_{1} m_{2} x + m_{2} n_{1} + n_{2}$"
      ],
      "text/plain": [
       "m₁⋅m₂⋅x + m₂⋅n₁ + n₂"
      ]
     },
     "metadata": {},
     "output_type": "display_data"
    }
   ],
   "source": [
    "lin_to_lin = preCalcFromTo(linear_fx, linear_gx)"
   ]
  },
  {
   "cell_type": "code",
   "execution_count": 308,
   "id": "cc296553",
   "metadata": {},
   "outputs": [
    {
     "name": "stdout",
     "output_type": "stream",
     "text": [
      "f= m1*x + n1  to  g= a2 + b2*x + c2*x**2\n"
     ]
    },
    {
     "data": {
      "image/png": "[encoded data removed]",
      "text/latex": [
       "$\\displaystyle a_{2} + b_{2} m_{1} x + b_{2} n_{1} + c_{2} m_{1}^{2} x^{2} + 2 c_{2} m_{1} n_{1} x + c_{2} n_{1}^{2}$"
      ],
      "text/plain": [
       "                            2  2                       2\n",
       "a₂ + b₂⋅m₁⋅x + b₂⋅n₁ + c₂⋅m₁ ⋅x  + 2⋅c₂⋅m₁⋅n₁⋅x + c₂⋅n₁ "
      ]
     },
     "metadata": {},
     "output_type": "display_data"
    },
    {
     "data": {
      "text/plain": [
       "'a2 + b2*n1 + c2*m1^2*x^2 + c2*n1^2 + x*(b2*m1 + 2*c2*m1*n1)'"
      ]
     },
     "execution_count": 308,
     "metadata": {},
     "output_type": "execute_result"
    }
   ],
   "source": [
    "lin_to_poly3 = preCalcFromTo(linear_fx, poly3_gx)\n",
    "print_ncode(collect(lin_to_poly3, x))"
   ]
  },
  {
   "cell_type": "code",
   "execution_count": 319,
   "id": "7e300e83",
   "metadata": {},
   "outputs": [
    {
     "data": {
      "image/png": "[encoded data removed]",
      "text/latex": [
       "$\\displaystyle k_{1} > m_{1} x + n_{1}$"
      ],
      "text/plain": [
       "k₁ > m₁⋅x + n₁"
      ]
     },
     "execution_count": 319,
     "metadata": {},
     "output_type": "execute_result"
    }
   ],
   "source": [
    "lin_to_lltable = lltable_gx.subs(x, linear_fx)\n",
    "lin_to_lltable"
   ]
  },
  {
   "cell_type": "code",
   "execution_count": 318,
   "id": "b5cc4ec0",
   "metadata": {},
   "outputs": [
    {
     "data": {
      "text/plain": [
       "'-m1*x > -k1 + n1'"
      ]
     },
     "execution_count": 318,
     "metadata": {},
     "output_type": "execute_result"
    }
   ],
   "source": [
    "print_ncode(solve(lin_to_lltable, x))"
   ]
  },
  {
   "cell_type": "code",
   "execution_count": null,
   "id": "b36ecc59",
   "metadata": {},
   "outputs": [],
   "source": []
  }
 ],
 "metadata": {
  "kernelspec": {
   "display_name": "Python 3.8 (ipykernel)",
   "language": "python",
   "name": "python3.8"
  },
  "language_info": {
   "codemirror_mode": {
    "name": "ipython",
    "version": 3
   },
   "file_extension": ".py",
   "mimetype": "text/x-python",
   "name": "python",
   "nbconvert_exporter": "python",
   "pygments_lexer": "ipython3",
   "version": "3.8.13"
  }
 },
 "nbformat": 4,
 "nbformat_minor": 5
}
